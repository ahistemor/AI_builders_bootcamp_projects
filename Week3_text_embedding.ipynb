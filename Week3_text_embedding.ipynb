{
 "cells": [
  {
   "cell_type": "markdown",
   "id": "1201bf63",
   "metadata": {},
   "source": [
    "# LIBRARIES"
   ]
  },
  {
   "cell_type": "code",
   "execution_count": 1,
   "id": "fd20e082",
   "metadata": {},
   "outputs": [
    {
     "name": "stderr",
     "output_type": "stream",
     "text": [
      "c:\\Users\\Dell\\miniconda3\\envs\\AIbuilders\\Lib\\site-packages\\tqdm\\auto.py:21: TqdmWarning: IProgress not found. Please update jupyter and ipywidgets. See https://ipywidgets.readthedocs.io/en/stable/user_install.html\n",
      "  from .autonotebook import tqdm as notebook_tqdm\n"
     ]
    },
    {
     "data": {
      "text/plain": [
       "True"
      ]
     },
     "execution_count": 1,
     "metadata": {},
     "output_type": "execute_result"
    }
   ],
   "source": [
    "from IPython.display import display, Markdown\n",
    "from bs4 import BeautifulSoup\n",
    "import requests\n",
    "from datetime import date\n",
    "from datetime import datetime\n",
    "from dotenv import load_dotenv\n",
    "import locale\n",
    "import os\n",
    "from sentence_transformers import SentenceTransformer\n",
    "from sklearn.decomposition import PCA\n",
    "from sklearn.cluster import KMeans\n",
    "import matplotlib.pyplot as plt\n",
    "os.environ[\"TOKENIZERS_PARALLELISM\"] = \"false\" # to supress specific warning\n",
    "\n",
    "\n",
    "from llama_index.core import VectorStoreIndex, get_response_synthesizer, Settings\n",
    "from llama_index.core.schema import TextNode\n",
    "from llama_index.core.retrievers import VectorIndexRetriever\n",
    "from llama_index.core.query_engine import RetrieverQueryEngine\n",
    "from llama_index.core.postprocessor import SimilarityPostprocessor\n",
    "from llama_index.llms.openai import OpenAI\n",
    "from llama_index.embeddings.huggingface import HuggingFaceEmbedding\n",
    "\n",
    "locale.setlocale(locale.LC_ALL, \"en_US\")\n",
    "load_dotenv()"
   ]
  },
  {
   "cell_type": "code",
   "execution_count": 2,
   "id": "5866a033",
   "metadata": {},
   "outputs": [],
   "source": [
    "Settings.llm = OpenAI(model = \"gpt-4o-mini\",\n",
    "                      api_key = os.getenv('OPEN_API_KEY'),\n",
    "                      temperature = 0.5)\n",
    "\n",
    "Settings.embed_model = HuggingFaceEmbedding(\n",
    "    model_name=\"BAAI/bge-small-en-v1.5\"\n",
    ")"
   ]
  },
  {
   "cell_type": "code",
   "execution_count": 3,
   "id": "c2cbecd6",
   "metadata": {},
   "outputs": [],
   "source": [
    "limit = datetime.strptime(\"January 01, 2020\", \"%B %d, %Y\")  \n",
    "date_wp = datetime.strptime(\"May 02, 2025\", \"%B %d, %Y\")  \n",
    "page_number = 1\n",
    "titles = []\n",
    "abstracts = []\n",
    "dates = []\n",
    "\n",
    "while date_wp >= limit:\n",
    "    url = requests.get(f'https://www.imf.org/en/Publications/WP/?page={page_number}').text\n",
    "    page = BeautifulSoup(url, 'html.parser')\n",
    "\n",
    "    w_papers = page.find_all(\"div\", {'class':'result-row pub-row'})\n",
    "\n",
    "    for paper in w_papers:\n",
    "        date_paper = paper.find_all(\"p\")[0].text.strip()    \n",
    "        \n",
    "        if date_paper != 'January 1, 0001':\n",
    "            title = paper.find_all(\"a\")[0].text.strip()\n",
    "            abstract = paper.find_all(\"span\")[0].text.strip()            \n",
    "            titles.append(title)\n",
    "            abstracts.append(abstract)\n",
    "            dates.append(date_paper)\n",
    "        else:\n",
    "            date_paper = \"May 02, 2025\"\n",
    "    \n",
    "    date_wp = datetime.strptime(date_paper, \"%B %d, %Y\")\n",
    "    page_number += 1"
   ]
  },
  {
   "cell_type": "code",
   "execution_count": 4,
   "id": "a577c8d6",
   "metadata": {},
   "outputs": [],
   "source": [
    "articles_nodes = []\n",
    "\n",
    "for i in range(len(titles)):\n",
    "    articles_nodes.append(\n",
    "        TextNode(\n",
    "            id = str(i),\n",
    "            text = abstracts[i],\n",
    "            metadata = {\n",
    "                \"title\" : titles[i],\n",
    "                \"date\" : dates[i]\n",
    "            }\n",
    "        )\n",
    "    )"
   ]
  },
  {
   "cell_type": "code",
   "execution_count": 5,
   "id": "e834130b",
   "metadata": {},
   "outputs": [
    {
     "name": "stderr",
     "output_type": "stream",
     "text": [
      "Generating embeddings: 100%|██████████| 1479/1479 [04:43<00:00,  5.21it/s]\n"
     ]
    }
   ],
   "source": [
    "index = VectorStoreIndex(articles_nodes, show_progress = True)"
   ]
  },
  {
   "cell_type": "code",
   "execution_count": 6,
   "id": "71dd237c",
   "metadata": {},
   "outputs": [
    {
     "name": "stdout",
     "output_type": "stream",
     "text": [
      "Embedding Model: BAAI/bge-small-en-v1.5\n",
      "Index Size: 1479\n"
     ]
    }
   ],
   "source": [
    "print(f\"Embedding Model: {index._embed_model.model_name}\")\n",
    "print(f\"Index Size: {len(index.vector_store.data.embedding_dict)}\")\n",
    "#print(f\"Embedding Size: {len(index.vector_store.data.embedding_dict[\"0\"])}\")"
   ]
  },
  {
   "cell_type": "code",
   "execution_count": 7,
   "id": "b8e2f60e",
   "metadata": {},
   "outputs": [],
   "source": [
    "# configure retriever\n",
    "retriever = VectorIndexRetriever(\n",
    "    index=index,\n",
    "    similarity_top_k = 10,\n",
    ")"
   ]
  },
  {
   "cell_type": "code",
   "execution_count": 8,
   "id": "d1a22564",
   "metadata": {},
   "outputs": [],
   "source": [
    "results = retriever.retrieve(\"What could be the possible effects of AI in society?\")"
   ]
  },
  {
   "cell_type": "code",
   "execution_count": 16,
   "id": "5c6f2b0f",
   "metadata": {},
   "outputs": [],
   "source": [
    "# format results in markdown\n",
    "results_markdown = \"\"\n",
    "for i, result in enumerate(results, start=1):\n",
    "    results_markdown += f\"{i}. **Article title:** {result.metadata[\"title\"]}  \\n\"\n",
    "    results_markdown += f\"   **Date:** {result.metadata[\"date\"]}  \\n\"\n",
    "    results_markdown += f\"   **Abstract:** {result.text}  \\n\\n\""
   ]
  },
  {
   "cell_type": "code",
   "execution_count": 17,
   "id": "d1d3593f",
   "metadata": {},
   "outputs": [
    {
     "data": {
      "text/markdown": [
       "1. **Article title:** The Economic Impacts and the Regulation of AI: A Review of the Academic Literature and Policy Actions  \n",
       "   **Date:** March 22, 2024  \n",
       "   **Abstract:** We review the literature on the effects of Artificial Intelligence (AI) adoption and the ongoing regulatory efforts concerning this technology. Economic research encompasses growth, employment, productivity, and income inequality effects, while regulation covers market competition, data privacy, copyright, national security, ethics concerns, and financial stability. We find that: (i) theoretical research agrees that AI will affect most occupations and transform growth, but empirical findings are inconclusive on employment and productivity effects; (ii) regulation has focused primarily on topics not explored by the academic literature; (iii) across countries, regulations differ widely in scope and approaches and face difficult trade-offs.  \n",
       "\n",
       "2. **Article title:** The Labor Market Impact of Artificial Intelligence: Evidence from US Regions  \n",
       "   **Date:** September 13, 2024  \n",
       "   **Abstract:** This paper empirically investigates the impact of Artificial Intelligence (AI) on employment. Exploiting variation in AI adoption across US commuting zones using a shift-share approach, I find that during 2010-2021, commuting zones with higher AI adoption have experienced a stronger decline in the employment-to-population ratio. Moreover, this negative employment effect is primarily borne by the manufacturing and lowskill services sectors, middle-skill workers, non-STEM occupations, and individuals at the two ends of the age distribution. The adverse impact is also more pronounced on men than women.  \n",
       "\n",
       "3. **Article title:** AI Adoption and Inequality  \n",
       "   **Date:** April 4, 2025  \n",
       "   **Abstract:** There are competing narratives about artificial intelligence’s impact on inequality. Some argue AI will exacerbate economic disparities, while others suggest it could reduce inequality by primarily disrupting high-income jobs. Using household microdata and a calibrated task-based model, we show these narratives reflect different channels through which AI affects the economy. Unlike previous waves of automation that increased both wage and wealth inequality, AI could reduce wage inequality through the displacement of high-income workers. However, two factors may counter this effect: these workers’ tasks appear highly complementary with AI, potentially increasing their productivity, and they are better positioned to benefit from higher capital returns. When firms can choose how much AI to adopt, the wealth inequality effect is particularly pronounced, as the potential cost savings from automating high-wage tasks drive significantly higher adoption rates. Models that ignore this adoption decision risk understating the trade-off policymakers face between inequality and efficiency.  \n",
       "\n",
       "4. **Article title:** The Global Impact of AI: Mind the Gap  \n",
       "   **Date:** April 11, 2025  \n",
       "   **Abstract:** This paper examines the uneven global impact of AI, highlighting how its effects will be a function of (i) countries’ sectoral exposure to AI, (ii) their preparedness to integrate these technologies into their economies, and (iii) their access to essential data and technologies. We feed these three aspects into a multi-sector dynamic general equilibrium model of the global economy and show that AI will exacerbate cross-country income inequality, disproportionately benefiting advanced economies. Indeed, the estimated growth impact in advanced economies could be more than double that in low-income countries. While improvements in AI preparedness and access can mitigate these disparities, they are unlikely to fully offset them. Moreover, the AI-driven productivity gains could reduce the traditional role of exchange rate adjustments due to AI’s large impact in the non-tradable sector—a mechanism akin to an inverse Balassa-Samuelson effect.  \n",
       "\n",
       "5. **Article title:** Labor Market Exposure to AI: Cross-country Differences and Distributional Implications  \n",
       "   **Date:** October 4, 2023  \n",
       "   **Abstract:** This paper examines the impact of Artificial Intelligence (AI) on labor markets in both Advanced Economies (AEs) and Emerging Markets (EMs). We propose an extension to a standard measure of AI exposure, accounting for AI's potential as either a complement or a substitute for labor, where complementarity reflects lower risks of job displacement. We analyze worker-level microdata from 2 AEs (US and UK) and 4 EMs (Brazil, Colombia, India, and South Africa), revealing substantial variations in unadjusted AI exposure across countries. AEs face higher exposure than EMs due to a higher employment share in professional and managerial occupations. However, when accounting for potential complementarity, differences in exposure across countries are more muted. Within countries, common patterns emerge in AEs and EMs. Women and highly educated workers face greater occupational exposure to AI, at both high and low complementarity. Workers in the upper tail of the earnings distribution are more likely to be in occupations with high exposure but also high potential complementarity.  \n",
       "\n",
       "6. **Article title:** Exposure to Artificial Intelligence and Occupational Mobility: A Cross-Country Analysis  \n",
       "   **Date:** June 7, 2024  \n",
       "   **Abstract:** We document historical patterns of workers' transitions across occupations and over the life-cycle for different levels of exposure and complementarity to Artificial Intelligence (AI) in Brazil and the UK. In both countries, college-educated workers frequently move from high-exposure, low-complementarity occupations (those more likely to be negatively affected by AI) to high-exposure, high-complementarity ones (those more likely to be positively affected by AI). This transition is especially common for young college-educated workers and is associated with an increase in average salaries. Young highly educated workers thus represent the demographic group for which AI-driven structural change could most expand opportunities for career progression but also highly disrupt entry into the labor market by removing stepping-stone jobs. These patterns of “upward” labor market transitions for college-educated workers look broadly alike in the UK and Brazil, suggesting that the impact of AI adoption on the highly educated labor force could be similar across advanced economies and emerging markets. Meanwhile, non-college workers in Brazil face markedly higher chances of moving from better-paid high-exposure and low-complementarity occupations to low-exposure ones, suggesting a higher risk of income loss if AI were to reduce labor demand for the former type of jobs.  \n",
       "\n",
       "7. **Article title:** Will the AI Revolution Cause a Great Divergence?  \n",
       "   **Date:** September 11, 2020  \n",
       "   **Abstract:** This paper considers the implications for developing countries of a new wave of technological change that substitutes pervasively for labor. It makes simple and plausible assumptions: the AI revolution can be modeled as an increase in productivity of a distinct type of capital that substitutes closely with labor; and the only fundamental difference between the advanced and developing country is the level of TFP. This set-up is minimalist, but the resulting conclusions are powerful: improvements in the productivity of “robots” drive divergence, as advanced countries differentially benefit from their initially higher robot intensity, driven by their endogenously higher wages and stock of complementary traditional capital. In addition,  capital—if internationally mobile—is pulled “uphill”, resulting in a transitional GDP decline in the developing country. In an extended model where robots substitute only for unskilled labor, the terms of trade, and hence GDP, may decline permanently for the country relatively well-endowed in unskilled labor.  \n",
       "\n",
       "8. **Article title:** Technological Progress, Artificial Intelligence, and Inclusive Growth  \n",
       "   **Date:** June 11, 2021  \n",
       "   **Abstract:** Advances in artificial intelligence and automation have the potential to be labor-saving and to increase inequality and poverty around the globe. They also give rise to winner-takes-all dynamics that advantage highly skilled individuals and countries that are at the forefront of technological progress. We analyze the economic forces behind these developments and delineate domestic economic policies to mitigate the adverse effects while leveraging the potential gains from technological advances. We also propose reforms to the global system of governance that make the benefits of advances in artificial intelligence more inclusive.  \n",
       "\n",
       "9. **Article title:** AI and Productivity in Europe  \n",
       "   **Date:** April 4, 2025  \n",
       "   **Abstract:** The discussion on Artificial Intelligence (AI) often centers around its impact on productivity, but macroeconomic evidence for Europe remains scarce. Using the Acemoglu (2024) approach we simulate the medium-term impact of AI adoption on total factor productivity for 31 European countries. We compile many scenarios by pooling evidence on which tasks will be automatable in the near term, using reduced-form regressions to predict AI adoption across Europe, and considering relevant regulation that restricts AI use heterogeneously across tasks, occupations and sectors. We find that the medium-term productivity gains for Europe as a whole are likely to be modest, at around 1 percent cumulatively over five years. While economcially still moderate, these gains are still larger than estimates by Acemoglu (2024) for the US. They vary widely across scenarios and countries and are sustantially larger in countries with higher incomes. Furthermore, we show that national and EU regulations around occupation-level requirements, AI safety, and data privacy combined could reduce Europe’s productivity gains by over 30 percent if AI exposure were 50 percent lower in tasks, occupations and sectors affected by regulation.  \n",
       "\n",
       "10. **Article title:** Strengthening Social Protection to Pave the Way for Technological Innovation: Evidence from the U.S.  \n",
       "   **Date:** May 3, 2024  \n",
       "   **Abstract:** This paper investigates the impact of automation on the U.S. labor market from 2000 to 2007, specifically examining whether more generous social protection programs can mitigate negative effects. Following Acemoglu and Restrepo (2020), the study finds that areas with higher robot adoption reduced employment and wages, in particular for workers without collegue degree. Notably, the paper exploits differences in social protection generosity across states and finds that areas with more generous unemployment insurance (UI) alleviated the negative effects on wages, especially for less-skilled workers. The results suggest that UI allowed displaced workers to find better matches The findings emphasize the importance of robust social protection policies in addressing the challenges posed by automation, contributing valuable insights for policymakers.  \n",
       "\n"
      ],
      "text/plain": [
       "<IPython.core.display.Markdown object>"
      ]
     },
     "metadata": {},
     "output_type": "display_data"
    }
   ],
   "source": [
    "display(Markdown(results_markdown))"
   ]
  },
  {
   "cell_type": "code",
   "execution_count": 18,
   "id": "d4498a5c",
   "metadata": {},
   "outputs": [
    {
     "name": "stdout",
     "output_type": "stream",
     "text": [
      "The adoption of AI in society could lead to several significant effects. It is expected to transform various occupations and influence economic growth. However, the impact on employment and productivity remains uncertain, with some sectors experiencing declines in job opportunities, particularly in manufacturing and low-skill services. \n",
      "\n",
      "AI may also affect income inequality, with differing narratives suggesting it could either exacerbate or reduce disparities. While high-income jobs may face disruption, the potential for AI to enhance productivity among these workers could counterbalance wage inequality. Moreover, the global impact of AI is likely to be uneven, benefiting advanced economies more than low-income countries and exacerbating cross-country income inequality.\n",
      "\n",
      "In terms of labor markets, exposure to AI varies across countries, with advanced economies facing higher risks due to their employment structures. Workers with higher education levels might experience more opportunities for upward mobility, while non-college workers could face increased risks of income loss.\n",
      "\n",
      "Overall, AI's influence on society encompasses a complex interplay of economic growth, labor market dynamics, and inequality, with varying implications depending on the sector, region, and demographic factors.\n"
     ]
    }
   ],
   "source": [
    "# configure response synthesizer\n",
    "response_synthesizer = get_response_synthesizer()\n",
    "\n",
    "# assemble query engine\n",
    "query_engine = RetrieverQueryEngine(\n",
    "    retriever=retriever,\n",
    "    response_synthesizer=response_synthesizer,\n",
    "    node_postprocessors=[SimilarityPostprocessor(similarity_cutoff=0.7)],\n",
    ")\n",
    "\n",
    "response = query_engine.query(\"What could be the possible effects of AI in society?\")\n",
    "print(response)"
   ]
  },
  {
   "cell_type": "code",
   "execution_count": 19,
   "id": "1bd6bc7c",
   "metadata": {},
   "outputs": [
    {
     "name": "stdout",
     "output_type": "stream",
     "text": [
      "To mitigate the negative effects of AI adoption, a country could implement several actions, including:\n",
      "\n",
      "1. **Enhancing Education and Training**: Investing in education and vocational training programs to equip the workforce with the necessary skills to adapt to AI technologies. This includes reskilling and upskilling initiatives focused on high-demand areas.\n",
      "\n",
      "2. **Promoting Inclusive Policies**: Developing policies that ensure equitable access to AI technologies and their benefits, particularly for low-income and marginalized communities. This could involve subsidies or support for small businesses to adopt AI.\n",
      "\n",
      "3. **Implementing Safety Nets**: Establishing social safety nets such as universal basic income or unemployment benefits to support individuals displaced by AI automation, ensuring they have financial security during transitions.\n",
      "\n",
      "4. **Encouraging Research and Development**: Supporting R&D in AI that focuses on creating technologies that complement rather than replace human labor, fostering innovation that benefits a broader range of sectors.\n",
      "\n",
      "5. **Regulating AI Adoption**: Creating regulations that guide the ethical use of AI, ensuring that its deployment considers social implications and minimizes harm to vulnerable job sectors.\n",
      "\n",
      "6. **Facilitating Access to Data and Technology**: Ensuring that businesses, especially in developing regions, have access to essential data and technologies needed for effective AI integration.\n",
      "\n",
      "7. **Promoting Collaboration**: Encouraging public-private partnerships to address challenges related to AI adoption, facilitating knowledge sharing and resource allocation.\n",
      "\n",
      "8. **Monitoring and Evaluation**: Establishing frameworks to continuously monitor the impacts of AI on the economy and society, allowing for timely adjustments to policies as needed. \n",
      "\n",
      "These actions can help balance the benefits of AI while reducing its potential negative repercussions on employment and inequality.\n"
     ]
    }
   ],
   "source": [
    "response = query_engine.query(\"What actions could a country implement to mititgate the negative effects of AI adoption?\")\n",
    "print(response)"
   ]
  }
 ],
 "metadata": {
  "kernelspec": {
   "display_name": "AIbuilders",
   "language": "python",
   "name": "python3"
  },
  "language_info": {
   "codemirror_mode": {
    "name": "ipython",
    "version": 3
   },
   "file_extension": ".py",
   "mimetype": "text/x-python",
   "name": "python",
   "nbconvert_exporter": "python",
   "pygments_lexer": "ipython3",
   "version": "3.13.2"
  }
 },
 "nbformat": 4,
 "nbformat_minor": 5
}
