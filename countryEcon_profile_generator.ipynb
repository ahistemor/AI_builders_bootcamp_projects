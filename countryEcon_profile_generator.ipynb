{
    "cells": [
        {
            "cell_type": "code",
            "execution_count": null,
            "metadata": {
                "id": "74068f75"
            },
            "source": [
                "import pandas as pd\n",
                "import numpy as np\n", 
                "import newsdataapi\n",
                "import json\n",
                "import matplotlib.pyplot as plt\n",
                "import re\n",
                "import os\n",
                "from dotenv import load_dotenv\n",
                "from openai import OpenAI\n",
                "import requests\n",
                "from io import StringIO\n",
                "import bcchapi\n",
                "import openpyxl\n",
                "\n",
                "load_dotenv()\n",
                "client = OpenAI(api_key = os.getenv('OPEN_API_KEY'))"
            ]
        },
        {
            "cell_type": "code",
            "execution_count": null,
            "metadata": {
                "id": "c7d585d2"
            },
            "source": [
                "response = client.responses.create(\n",
                "    model=\"gpt-4o\",\n",
                "    input=\"Write a one-sentence bedtime story about a unicorn.\"\n",
                ")\n",
                "\n",
                "print(response.output_text)\n"
            ]
        },
        {
            "cell_type": "markdown",
            "metadata": {
                "id": "8a0dec8e"
            },
            "source": [
                "# OCDE FUNCTION"
            ]
        },
        {
            "cell_type": "code",
            "execution_count": null,
            "metadata": {
                "id": "ca89522a"
            },
            "source": [
                "def get_csv_from_api_OCDE(url):\n",
                "    try:\n",
                "        # Make the request\n", 
                "        response = requests.get(url)\n",
                "        response.raise_for_status()  # Check for HTTP errors\n",
                "        \n",
                "        # Convert response content to DataFrame\n",
                "        # Use StringIO to create a file-like object from the response text\n",
                "        from io import StringIO\n",
                "        df = pd.read_csv(StringIO(response.text))\n",
                "        return df\n",
                "    except requests.exceptions.RequestException as e:\n",
                "        print(f\"Error making API request: {e}\")\n",
                "        return None\n",
                "    except Exception as e:\n",
                "        print(f\"Error processing CSV data: {e}\")\n",
                "        return None"
            ]
        },
        {
            "cell_type": "markdown",
            "metadata": {
                "id": "aa25faf2"
            },
            "source": [
                "# UNEMPLOYMENT"
            ]
        },
        {
            "cell_type": "code",
            "execution_count": null,
            "metadata": {
                "id": "49331686" 
            },
            "source": [
                "url = 'https://sdmx.oecd.org/public/rest/data/OECD.SDD.TPS,DSD_LFS@DF_IALFS_UNE_M,1.0/CHL+MEX+COL+CRI..._Z.Y._T.Y_GE15..M?startPeriod=2024-02&format=csvfilewithlabels'\n",
                "\n",
                "df_unemployment = get_csv_from_api_OCDE(url)"
            ]
        },
        {
            "cell_type": "markdown",
            "metadata": {
                "id": "626d4d1a"
            },
            "source": [
                "# MEXICO"
            ]
        },
        {
            "cell_type": "code", 
            "execution_count": null,
            "metadata": {
                "id": "19110c20"
            },
            "source": [
                "token_mex = os.getenv('API_MEX')\n",
                "def get_df_from_inegi(indicator_id, token = token_mex):\n",
                "    url = f\"https://www.inegi.org.mx/app/api/indicadores/desarrolladores/jsonxml/INDICATOR/{indicator_id}/es/0700/false/BIE/2.0/{token}\"\n",
                "    response = requests.get(url)\n",
                "    data = response.json()\n",
                "    df = pd.DataFrame(data[\"Series\"][0]['OBSERVATIONS'])[[\"TIME_PERIOD\",\"OBS_VALUE\"]]\n",
                "    return df"
            ]
        },
        {
            "cell_type": "code",
            "execution_count": null, 
            "metadata": {
                "id": "48a7a989"
            },
            "source": [
                "#indicador_id = '910406' #inflation\n",
                "\n",
                "# First request for GDP proxy (737220)\n",
                "df_gdp_proxy = get_df_from_inegi(\"737220\")\n",
                "\n",
                "# Second request for unemployment (444884)\n", 
                "df_unemployment = get_df_from_inegi(\"444884\")\n",
                "\n",
                "# Inflation\n",
                "df_inflation_mex = pd.read_excel('Data/df_infl_mex.xlsx', skiprows=4)\n",
                "df_inflation_mex = df_inflation_mex.rename(columns={'Periodos': 'Date', 'Precios e Inflación': 'Inflation'})\n",
                "df_inflation_mex.columns = ['date', 'Inflation']\n",
                "\n",
                "# Merge the dataframes on the date column\n",
                "df_gdp_proxy.columns = ['date', 'IGAE']\n",
                "df_unemployment.columns = ['date', 'unemployment']\n",
                "df_mexico = pd.merge(df_gdp_proxy, df_unemployment, on='date', how='outer')\n",
                "\n",
                "# Final merge\n",
                "df_mexico = df_mexico.sort_values('date', ascending=False)\n",
                "df_mexico = pd.merge(df_mexico, df_inflation_mex, on='date', how='outer')\n"
            ]
        },
        {
            "cell_type": "markdown",
            "metadata": {
                "id": "2a6ddffa"
            },
            "source": [
                "# CHILE"
            ]
        },
        {
            "cell_type": "code",
            "execution_count": null,
            "metadata": {
                "id": "42a57b7d"
            },
            "source": [
                "api_chile = bcchapi.Siete(os.getenv('CORREO_CHILE'), os.getenv('PASSWORD_CHILE'))\n",
                "\n",
                "df_chile = api_chile.cuadro(\n",
                "    series = [\"F032.IMC.IND.Z.Z.EP18.Z.Z.0.M\", \"F074.IPC.V12.Z.EP23.C.M\", \"F049.DES.TAS.INE9.10.M\"],\n",
                "    nombres = [\"imacec\", \"ipc\", \"unemployment\"],\n",
                "    desde = \"2024-01-01\",\n",
                "    hasta = \"2025-03-31\",\n",
                "    frecuencia = \"ME\",\n",
                "    observado = {\"imacec\":\"last\", \"ipc\":\"last\", \"unemployment\":\"last\"}\n",
                ")   "
            ]
        },
        {
            "cell_type": "markdown",
            "metadata": {
                "id": "e3b30511"  
            },
            "source": [
                "# COSTA RICA"
            ]
        },
        {
            "cell_type": "code",
            "execution_count": null,
            "metadata": {
                "id": "5deb1799"
            },
            "source": [
                "token_cr = os.getenv('API_CR')\n",
                "def get_df_from_cr(indicator_id, start_period, end_period, sub_level, indicator_name,\n",
                "                   name = 'Ahias', token = token_cr, email = os.getenv('CORREO_CHILE')):\n",
                "    \n",
                "    url = 'https://gee.bccr.fi.cr/Indicadores/Suscripciones/WS/wsindicadoreseconomicos.asmx/ObtenerIndicadoresEconomicosXML'\n",
                "    url = url + f'?Indicador={indicator_id}&FechaInicio={start_period}&FechaFinal={end_period}&Nombre={name}&SubNiveles={sub_level}'\n",  
                "    url = url + f'&CorreoElectronico={email}&Token={os.getenv(\"API_CR\")}'\n",
                "    response = requests.get(url)\n",
                "    \n",
                "    clean_text = response.text.replace('<?xml version=\"1.0\" encoding=\"utf-8\"?>', '')\n",
                "    clean_text = re.sub(r'<[^>]+>', '', clean_text)\n",
                "    clean_text = re.sub(r'(&lt;)|(&gt)', '', clean_text)\n",
                "    clean_text = re.sub(r\"/[A-Z]+_[A-Z]+\", '', clean_text)\n",
                "    clean_text = re.sub(r\"(Datos_de_INGC011_CAT_INDICADORECONOMIC;)|(INGC011_CAT_INDICADORECONOMIC;)\", '', clean_text)\n",
                "    clean_text = re.sub(r'/', '', clean_text)\n",
                "    clean_text = ([line.strip() for line in clean_text.split('\\n') if line.strip()])\n",
                "    \n",
                "    dates = np.array([])\n",
                "    values = np.array([])\n",
                "\n",
                "    for element in clean_text:\n",
                "        divided = re.split(r\";\", element)\n",
                "        if divided[0] == 'DES_FECHA':\n",
                "            date_str = divided[1].split('T')[0]\n",
                "            dates = np.append(dates, pd.to_datetime(date_str))\n",
                "        if divided[0] == 'NUM_VALOR':      \n",
                "            values = np.append(values, float(divided[1]))\n",
                "            \n",
                "    df = pd.DataFrame({'date': dates,\n",
                "                       indicator_name: values})\n",
                "    return df"
            ]
        },
        {
            "cell_type": "code",
            "execution_count": null,
            "metadata": {
                "id": "a9c991cf"
            },
            "source": [
                "df_cr_gfp_proxy = get_df_from_cr(87764, '01/01/2025', '18/04/2025', 'N', 'IMAE') #gdp proxy\n",
                "df_cr_unempl = get_df_from_cr(23633, '01/01/2025', '18/04/2025', 'N', 'unemloyment') #unemloyment\n",
                "df_cr_inf = get_df_from_cr(89638, '01/01/2025', '18/04/2025', 'N', 'var_ipc') #inflation\n",
                "\n",
                "df_cr = pd.merge(df_cr_gfp_proxy, df_cr_unempl, on='date', how='outer')\n",
                "df_cr = pd.merge(df_cr, df_cr_inf, on = 'date', how = 'outer')\n"
            ]
        }
    ],
    "metadata": {
        "kernelspec": {
            "display_name": "Python 3",
            "language": "python",
            "name": "python3"
        }
    },
    "nbformat": 4,
    "nbformat_minor": 4
}