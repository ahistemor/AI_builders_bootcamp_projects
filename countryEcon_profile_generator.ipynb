{
    "cells": [
        {
            "cell_type": "code",
            "execution_count": 31,
            "metadata": {
                "id": "74068f75"
            },
            "outputs": [],
            "source": [
                "import pandas as pd\n",
                "import numpy as np\n",
                "import newsdataapi\n",
                "import json\n",
                "import matplotlib.pyplot as plt\n",
                "import re\n",
                "import os\n",
                "from dotenv import load_dotenv\n",
                "from openai import OpenAI\n",
                "import requests\n",
                "from io import StringIO\n",
                "import bcchapi\n",
                "import openpyxl\n",
                "from IPython.display import Markdown, display\n",
                "\n",
                "load_dotenv()\n",
                "client = OpenAI(api_key = os.getenv('OPEN_API_KEY'))"
            ]
        },
        {
            "cell_type": "markdown",
            "metadata": {
                "id": "626d4d1a"
            },
            "source": [
                "# MEXICO"
            ]
        },
        {
            "cell_type": "code",
            "execution_count": 8,
            "metadata": {
                "id": "19110c20"
            },
            "outputs": [],
            "source": [
                "token_mex = os.getenv('API_MEX')\n",
                "def get_df_from_inegi(indicator_id, token = token_mex):\n",
                "    url = f\"https://www.inegi.org.mx/app/api/indicadores/desarrolladores/jsonxml/INDICATOR/{indicator_id}/es/0700/false/BIE/2.0/{token}\"\n",
                "    response = requests.get(url)\n",
                "    data = response.json()\n",
                "    df = pd.DataFrame(data[\"Series\"][0]['OBSERVATIONS'])[[\"TIME_PERIOD\",\"OBS_VALUE\"]]\n",
                "    return df"
            ]
        },
        {
            "cell_type": "code",
            "execution_count": 9,
            "metadata": {
                "id": "48a7a989"
            },
            "outputs": [],
            "source": [
                "#indicador_id = '910406' #inflation\n",
                "\n",
                "# First request for GDP proxy (737220)\n",
                "df_gdp_proxy = get_df_from_inegi(\"737220\")\n",
                "\n",
                "# Second request for unemployment (444884)\n",
                "df_unemployment = get_df_from_inegi(\"444884\")\n",
                "\n",
                "# Inflation\n",
                "df_inflation_mex = pd.read_excel('Data/df_infl_mex.xlsx', skiprows=4)\n",
                "df_inflation_mex = df_inflation_mex.rename(columns={'Periodos': 'Date', 'Precios e Inflación': 'Inflation'})\n",
                "df_inflation_mex.columns = ['date', 'Inflation']\n",
                "\n",
                "# Merge the dataframes on the date column\n",
                "df_gdp_proxy.columns = ['date', 'IGAE']\n",
                "df_unemployment.columns = ['date', 'unemployment']\n",
                "df_mexico = pd.merge(df_gdp_proxy, df_unemployment, on='date', how='outer')\n",
                "\n",
                "# Final merge\n",
                "df_mexico = df_mexico.sort_values('date', ascending=False)\n",
                "df_mexico = pd.merge(df_mexico, df_inflation_mex, on='date', how='outer')\n"
            ]
        },
        {
            "cell_type": "markdown",
            "metadata": {
                "id": "2a6ddffa"
            },
            "source": [
                "# CHILE"
            ]
        },
        {
            "cell_type": "code",
            "execution_count": 4,
            "metadata": {
                "id": "42a57b7d"
            },
            "outputs": [],
            "source": [
                "api_chile = bcchapi.Siete(os.getenv('CORREO_CHILE'), os.getenv('PASSWORD_CHILE'))\n",
                "\n",
                "df_chile = api_chile.cuadro(\n",
                "    series = [\"F032.IMC.IND.Z.Z.EP18.Z.Z.0.M\", \"F074.IPC.V12.Z.EP23.C.M\", \"F049.DES.TAS.INE9.10.M\"],\n",
                "    nombres = [\"imacec\", \"ipc\", \"unemployment\"],\n",
                "    desde = \"2024-01-01\",\n",
                "    hasta = \"2025-03-31\",\n",
                "    frecuencia = \"ME\",\n",
                "    observado = {\"imacec\":\"last\", \"ipc\":\"last\", \"unemployment\":\"last\"}\n",
                ")   "
            ]
        },
        {
            "cell_type": "markdown",
            "metadata": {
                "id": "e3b30511"
            },
            "source": [
                "# COSTA RICA"
            ]
        },
        {
            "cell_type": "code",
            "execution_count": null,
            "metadata": {
                "id": "5deb1799"
            },
            "outputs": [],
            "source": [
                "token_cr = os.getenv('API_CR')\n",
                "def get_df_from_cr(indicator_id, start_period, end_period, sub_level, indicator_name,\n",
                "                   name = 'Ahias', token = token_cr, email = os.getenv('CORREO_CHILE')):\n",
                "    \n",
                "    url = 'https://gee.bccr.fi.cr/Indicadores/Suscripciones/WS/wsindicadoreseconomicos.asmx/ObtenerIndicadoresEconomicosXML'\n",
                "    url = url + f'?Indicador={indicator_id}&FechaInicio={start_period}&FechaFinal={end_period}&Nombre={name}&SubNiveles={sub_level}'\n",
                "    url = url + f'&CorreoElectronico={email}&Token={os.getenv(\"API_CR\")}'\n",
                "    \n",
                "    response = requests.get(url)\n",
                "    \n",
                "    clean_text = response.text.replace('<?xml version=\"1.0\" encoding=\"utf-8\"?>', '')\n",
                "    clean_text = re.sub(r'<[^>]+>', '', clean_text)\n",
                "    clean_text = re.sub(r'(&lt;)|(&gt)', '', clean_text)\n",
                "    clean_text = re.sub(r\"/[A-Z]+_[A-Z]+\", '', clean_text)\n",
                "    clean_text = re.sub(r\"(Datos_de_INGC011_CAT_INDICADORECONOMIC;)|(INGC011_CAT_INDICADORECONOMIC;)\", '', clean_text)\n",
                "    clean_text = re.sub(r'/', '', clean_text)\n",
                "    clean_text = ([line.strip() for line in clean_text.split('\\n') if line.strip()])\n",
                "    \n",
                "    dates = np.array([])\n",
                "    values = np.array([])\n",
                "\n",
                "    for element in clean_text:\n",
                "        divided = re.split(r\";\", element)\n",
                "        if divided[0] == 'DES_FECHA':\n",
                "            date_str = divided[1].split('T')[0]\n",
                "            dates = np.append(dates, pd.to_datetime(date_str))\n",
                "        if divided[0] == 'NUM_VALOR':      \n",
                "            values = np.append(values, float(divided[1]))\n",
                "            \n",
                "    df = pd.DataFrame({'date': dates,\n",
                "                       indicator_name: values})\n",
                "    return df"
            ]
        },
        {
            "cell_type": "code",
            "execution_count": 10,
            "metadata": {
                "id": "a9c991cf"
            },
            "outputs": [],
            "source": [
                "df_cr_gfp_proxy = get_df_from_cr(87764, '01/01/2024', '18/04/2025', 'N', 'IMAE') #gdp proxy\n",
                "df_cr_unempl = get_df_from_cr(23633, '01/01/2024', '18/04/2025', 'N', 'unemloyment') #unemloyment\n",
                "df_cr_inf = get_df_from_cr(89638, '01/01/2024', '18/04/2025', 'N', 'var_ipc') #inflation\n",
                "\n",
                "df_cr = pd.merge(df_cr_gfp_proxy, df_cr_unempl, on='date', how='outer')\n",
                "df_cr = pd.merge(df_cr, df_cr_inf, on = 'date', how = 'outer')\n"
            ]
        },
        {
            "cell_type": "markdown",
            "metadata": {},
            "source": [
                "# LLM's"
            ]
        },
        {
            "cell_type": "markdown",
            "metadata": {},
            "source": [
                "Creating a personalize text based upon data retreived from the API's of these countries."
            ]
        },
        {
            "cell_type": "code",
            "execution_count": null,
            "metadata": {},
            "outputs": [],
            "source": [
                "# Convert dataframes to CSV format in memory\n",
                "chile_csv = df_chile.to_csv(index=False)\n",
                "cr_csv = df_cr.to_csv(index=False)\n",
                "mexico_csv = df_mexico.to_csv(index=False)\n",
                "\n",
                "# Combine the data into a single message for the API\n",
                "data_message = f\"\"\"\n",
                "Data for Chile:\n",
                "{chile_csv}\n",
                "\n",
                "Data for Costa Rica:\n",
                "{cr_csv}\n",
                "\n",
                "Data for Mexico:\n",
                "{mexico_csv}\n",
                "\"\"\""
            ]
        },
        {
            "cell_type": "code",
            "execution_count": 45,
            "metadata": {},
            "outputs": [],
            "source": [
                "prompt = f\"\"\"Your task is to analyze each of the following datasets, which contain the following indicators: inflation, unemployment, and short-term economic activity for three countries—Mexico, Chile, and Costa Rica.\n",
                "Write a short, 3-line paragraph summarizing the recent economic situation of each country, suitable for inclusion in a dashboard or executive summary.\n",
                "Each dataset includes the following columns:\n",
                "    - Date: Monthly date. This could be a regular date corresponding to the end of the month, or a year/month format (e.g., 2025/05, where 2025 is the year and 05 is the month).\n",
                "    - Inflation: Monthly year-on-year inflation rate. Possible column names include inflation or any that contain \"IPC\" (in upper or lower case).\n",
                "    - Unemployment: Monthly unemployment rate. Possible column name: unemployment.\n",
                "    - Short-term Economic Activity Indicator: A statistical index. Possible column names: IMAE, IMACE or IGAE.\n",
                "Instructions:\n",
                "- For the short-term economic activity indicator, calculate the year-on-year percentage change before writing your overview.\n",
                "- Include an analysis comparing the performance so far this year to the same period last year. (This is a year-to-date comparison: e.g., Jan–Apr 2025 vs. Jan–Apr 2024)\n",
                "- Include an analysis of the most recent available month compared to the immediately preceding month. (This is a month-over-month comparison: e.g., April 2025 vs. March 2025)\n",
                "- Be informative.\n",
                "- Indicate which date(s) from the dataset your analysis is based on, so it's clear what time period is being referenced.\n",
                "Output:\n",
                "For each country, provide two versions of the brief:\n",
                "    -One for a specialized audience (e.g., other economists).\n",
                "    -One for the general public (with little or no knowledge of economics).\n",
                "Begin each output with the country name. Label each version clearly as ‘Expert’ or ‘General Public.’ Each version must be a maximum of 3 lines. You can follow the next example:    **Country**\n",
                "        *Expert*\n",
                "            Here is the output for the specialized audience.\n",
                "        *General Public*\n",
                "            Here id the output for the general public.\n",
                "Here is the data to analyze:\n",
                "{data_message}\n",
                "\"\"\""
            ]
        },
        {
            "cell_type": "code",
            "execution_count": 46,
            "metadata": {},
            "outputs": [],
            "source": [
                "response = client.responses.create(\n",
                "    model = \"gpt-4o-mini\",\n",
                "    input = [\n",
                "        {\n",
                "            \"role\": \"developer\",\n",
                "            \"content\": \"You are a prominent economist and data analyst tasked with delivering key insights into macroeconomic trends\"\n",
                "        },\n",
                "        {\n",
                "            \"role\": \"user\",\n",
                "            \"content\": prompt\n",
                "        }],\n",
                "    temperature = 0.5    \n",
                ")"
            ]
        },
        {
            "cell_type": "code",
            "execution_count": 47,
            "metadata": {},
            "outputs": [
                {
                    "data": {
                        "text/markdown": [
                            "**Chile**  \n",
                            "*Expert*  \n",
                            "Chile's IMAEC shows a year-on-year increase of approximately 7.6% for January-April 2025 compared to the same period in 2024, while unemployment has decreased slightly to 8.3%. Month-over-month, inflation has risen to 4.9% in February 2025, indicating potential inflationary pressures.  \n",
                            "*General Public*  \n",
                            "Chile's economy is growing, with a 7.6% increase in economic activity compared to last year, and unemployment has dropped a bit to 8.3%. However, inflation is rising, reaching 4.9% in February 2025, which might affect prices.\n",
                            "\n",
                            "---\n",
                            "\n",
                            "**Costa Rica**  \n",
                            "*Expert*  \n",
                            "Costa Rica's IMAE shows a year-on-year increase of 4.4% for January-April 2025 compared to the same period in 2024, while the unemployment rate has improved to 9.7%. Month-over-month, inflation has turned positive, with a 1.2% increase in February 2025.  \n",
                            "*General Public*  \n",
                            "Costa Rica's economy has grown by 4.4% compared to last year, and unemployment is down to 9.7%. Inflation is also on the rise, with a 1.2% increase reported in February 2025.\n",
                            "\n",
                            "---\n",
                            "\n",
                            "**Mexico**  \n",
                            "*Expert*  \n",
                            "Mexico's IGAE shows a year-on-year decrease of approximately 0.2% for January-April 2025 compared to the same period in 2024, while unemployment remains stable at 2.6%. Month-over-month, inflation has slightly decreased to 3.8% in March 2025.  \n",
                            "*General Public*  \n",
                            "Mexico's economy has seen a slight decline of 0.2% compared to last year, and unemployment is steady at 2.6%. However, inflation has dipped a bit to 3.8% in March 2025, which is a positive sign for consumers."
                        ],
                        "text/plain": [
                            "<IPython.core.display.Markdown object>"
                        ]
                    },
                    "metadata": {},
                    "output_type": "display_data"
                }
            ],
            "source": [
                "display(Markdown(response.output_text))"
            ]
        }
    ],
    "metadata": {
        "kernelspec": {
            "display_name": "AIbuilders",
            "language": "python",
            "name": "python3"
        },
        "language_info": {
            "codemirror_mode": {
                "name": "ipython",
                "version": 3
            },
            "file_extension": ".py",
            "mimetype": "text/x-python",
            "name": "python",
            "nbconvert_exporter": "python",
            "pygments_lexer": "ipython3",
            "version": "3.13.2"
        }
    },
    "nbformat": 4,
    "nbformat_minor": 4
}
