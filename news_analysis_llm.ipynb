{
 "cells": [
  {
   "cell_type": "code",
   "execution_count": 1,
   "id": "7904817e",
   "metadata": {},
   "outputs": [],
   "source": [
    "import pandas as pd\n",
    "import numpy as np\n",
    "import newsdataapi\n",
    "import json\n",
    "import matplotlib.pyplot as plt\n",
    "import re\n",
    "import os\n",
    "from dotenv import load_dotenv\n",
    "from openai import OpenAI\n",
    "import requests\n",
    "from io import StringIO\n",
    "import bcchapi\n",
    "import openpyxl\n",
    "\n",
    "load_dotenv()\n",
    "client = OpenAI(api_key = os.getenv('OPEN_API_KEY'))"
   ]
  },
  {
   "cell_type": "code",
   "execution_count": 16,
   "id": "057095bb",
   "metadata": {},
   "outputs": [
    {
     "name": "stdout",
     "output_type": "stream",
     "text": [
      "Under the silver glow of the moon, Luna the unicorn gently trotted through a forest of dreams, leaving trails of shimmering stardust that whispered secrets to the night.\n"
     ]
    }
   ],
   "source": [
    "response = client.responses.create(\n",
    "    model=\"gpt-4o\",\n",
    "    input=\"Write a one-sentence bedtime story about a unicorn.\"\n",
    ")\n",
    "\n",
    "print(response.output_text)\n"
   ]
  },
  {
   "cell_type": "markdown",
   "id": "39c207f8",
   "metadata": {},
   "source": [
    "# OCDE FUNCTION"
   ]
  },
  {
   "cell_type": "code",
   "execution_count": 31,
   "id": "6313f630",
   "metadata": {},
   "outputs": [],
   "source": [
    "def get_csv_from_api_OCDE(url):\n",
    "    try:\n",
    "        # Make the request\n",
    "        response = requests.get(url)\n",
    "        response.raise_for_status()  # Check for HTTP errors\n",
    "        \n",
    "        # Convert response content to DataFrame\n",
    "        # Use StringIO to create a file-like object from the response text\n",
    "        from io import StringIO\n",
    "        df = pd.read_csv(StringIO(response.text))\n",
    "        return df\n",
    "    except requests.exceptions.RequestException as e:\n",
    "        print(f\"Error making API request: {e}\")\n",
    "        return None\n",
    "    except Exception as e:\n",
    "        print(f\"Error processing CSV data: {e}\")\n",
    "        return None"
   ]
  },
  {
   "cell_type": "markdown",
   "id": "dda1e824",
   "metadata": {},
   "source": [
    "# UNEMPLOYMENT"
   ]
  },
  {
   "cell_type": "code",
   "execution_count": null,
   "id": "e0b5e4a1",
   "metadata": {},
   "outputs": [],
   "source": [
    "url = 'https://sdmx.oecd.org/public/rest/data/OECD.SDD.TPS,DSD_LFS@DF_IALFS_UNE_M,1.0/CHL+MEX+COL+CRI..._Z.Y._T.Y_GE15..M?startPeriod=2024-02&format=csvfilewithlabels'\n",
    "\n",
    "df_unemployment = get_csv_from_api_OCDE(url)"
   ]
  },
  {
   "cell_type": "markdown",
   "id": "696ad5af",
   "metadata": {},
   "source": [
    "# MEXICO"
   ]
  },
  {
   "cell_type": "code",
   "execution_count": 159,
   "id": "66e36b06",
   "metadata": {},
   "outputs": [],
   "source": [
    "token_mex = os.getenv('API_MEX')\n",
    "def get_df_from_inegi(indicator_id, token = token_mex):\n",
    "    url = f\"https://www.inegi.org.mx/app/api/indicadores/desarrolladores/jsonxml/INDICATOR/{indicator_id}/es/0700/false/BIE/2.0/{token}\"\n",
    "    response = requests.get(url)\n",
    "    data = response.json()\n",
    "    df = pd.DataFrame(data[\"Series\"][0]['OBSERVATIONS'])[[\"TIME_PERIOD\",\"OBS_VALUE\"]]\n",
    "    return df"
   ]
  },
  {
   "cell_type": "code",
   "execution_count": 160,
   "id": "89d7961d",
   "metadata": {},
   "outputs": [],
   "source": [
    "#indicador_id = '910406' #inflation\n",
    "\n",
    "# First request for GDP proxy (737220)\n",
    "df_gdp_proxy = get_df_from_inegi(\"737220\")\n",
    "\n",
    "# Second request for unemployment (444884)\n",
    "df_unemployment = get_df_from_inegi(\"444884\")\n",
    "\n",
    "# Inflation\n",
    "df_inflation_mex = pd.read_excel('Data/df_infl_mex.xlsx', skiprows=4)\n",
    "df_inflation_mex = df_inflation_mex.rename(columns={'Periodos': 'Date', 'Precios e Inflación': 'Inflation'})\n",
    "df_inflation_mex.columns = ['date', 'Inflation']\n",
    "\n",
    "# Merge the dataframes on the date column\n",
    "df_gdp_proxy.columns = ['date', 'IGAE']\n",
    "df_unemployment.columns = ['date', 'unemployment']\n",
    "df_mexico = pd.merge(df_gdp_proxy, df_unemployment, on='date', how='outer')\n",
    "\n",
    "# Final merge\n",
    "df_mexico = df_mexico.sort_values('date', ascending=False)\n",
    "df_mexico = pd.merge(df_mexico, df_inflation_mex, on='date', how='outer')\n"
   ]
  },
  {
   "cell_type": "markdown",
   "id": "1ffd13e8",
   "metadata": {},
   "source": [
    "# CHILE"
   ]
  },
  {
   "cell_type": "code",
   "execution_count": null,
   "id": "1ed7c5b6",
   "metadata": {},
   "outputs": [],
   "source": [
    "api_chile = bcchapi.Siete(os.getenv('CORREO_CHILE'), os.getenv('PASSWORD_CHILE'))\n",
    "\n",
    "df_chile = api_chile.cuadro(\n",
    "    series = [\"F032.IMC.IND.Z.Z.EP18.Z.Z.0.M\", \"F074.IPC.V12.Z.EP23.C.M\", \"F049.DES.TAS.INE9.10.M\"],\n",
    "    nombres = [\"imacec\", \"ipc\", \"unemployment\"],\n",
    "    desde = \"2024-01-01\",\n",
    "    hasta = \"2025-03-31\",\n",
    "    frecuencia = \"ME\",\n",
    "    observado = {\"imacec\":\"last\", \"ipc\":\"last\", \"unemployment\":\"last\"}  \n",
    ")   "
   ]
  },
  {
   "cell_type": "markdown",
   "id": "201b525f",
   "metadata": {},
   "source": [
    "# COSTA RICA"
   ]
  },
  {
   "cell_type": "code",
   "execution_count": 32,
   "id": "2e54d41f",
   "metadata": {},
   "outputs": [],
   "source": [
    "token_cr = os.getenv('API_CR')\n",
    "def get_df_from_cr(indicator_id, start_period, end_period, sub_level, indicator_name,\n",
    "                   name = 'Ahias', token = token_cr, email = os.getenv('CORREO_CHILE')):\n",
    "    \n",
    "    url = 'https://gee.bccr.fi.cr/Indicadores/Suscripciones/WS/wsindicadoreseconomicos.asmx/ObtenerIndicadoresEconomicosXML'\n",
    "    url = url + f'?Indicador={indicator_id}&FechaInicio={start_period}&FechaFinal={end_period}&Nombre={name}&SubNiveles={sub_level}'\n",
    "    url = url + f'&CorreoElectronico={email}&Token={os.getenv('API_CR')}'\n",
    "    response = requests.get(url)\n",
    "    \n",
    "    clean_text = response.text.replace('<?xml version=\"1.0\" encoding=\"utf-8\"?>', '')\n",
    "    clean_text = re.sub(r'<[^>]+>', '', clean_text)\n",
    "    clean_text = re.sub(r'(&lt;)|(&gt)', '', clean_text)\n",
    "    clean_text = re.sub(r\"/[A-Z]+_[A-Z]+\", '', clean_text)\n",
    "    clean_text = re.sub(r\"(Datos_de_INGC011_CAT_INDICADORECONOMIC;)|(INGC011_CAT_INDICADORECONOMIC;)\", '', clean_text)\n",
    "    clean_text = re.sub(r'/', '', clean_text)\n",
    "    clean_text = ([line.strip() for line in clean_text.split('\\n') if line.strip()])\n",
    "    \n",
    "    dates = np.array([])\n",
    "    values = np.array([])\n",
    "\n",
    "    for element in clean_text:\n",
    "        divided = re.split(r\";\", element)\n",
    "        if divided[0] == 'DES_FECHA':\n",
    "            date_str = divided[1].split('T')[0]\n",
    "            dates = np.append(dates, pd.to_datetime(date_str))\n",
    "        if divided[0] == 'NUM_VALOR':      \n",
    "            values = np.append(values, float(divided[1]))\n",
    "            \n",
    "    df = pd.DataFrame({'date': dates,\n",
    "                       indicator_name: values})\n",
    "    return df"
   ]
  },
  {
   "cell_type": "code",
   "execution_count": null,
   "id": "f11cff43",
   "metadata": {},
   "outputs": [
    {
     "name": "stdout",
     "output_type": "stream",
     "text": [
      "        date        IMAE  unemloyment   var_ipc\n",
      "0 2025-01-31  125.102021     9.681053  1.150493\n",
      "1 2025-02-28  125.447428    10.937189  1.246541\n",
      "2 2025-03-31         NaN          NaN  1.212584\n"
     ]
    }
   ],
   "source": [
    "df_cr_gfp_proxy = get_df_from_cr(87764, '01/01/2025', '18/04/2025', 'N', 'IMAE') #gdp proxy\n",
    "df_cr_unempl = get_df_from_cr(23633, '01/01/2025', '18/04/2025', 'N', 'unemloyment') #unemloyment\n",
    "df_cr_inf = get_df_from_cr(89638, '01/01/2025', '18/04/2025', 'N', 'var_ipc') #inflation\n",
    "\n",
    "df_cr = pd.merge(df_cr_gfp_proxy, df_cr_unempl, on='date', how='outer')\n",
    "df_cr = pd.merge(df_cr, df_cr_inf, on = 'date', how = 'outer')\n"
   ]
  }
 ],
 "metadata": {
  "kernelspec": {
   "display_name": "AIbuilders",
   "language": "python",
   "name": "python3"
  },
  "language_info": {
   "codemirror_mode": {
    "name": "ipython",
    "version": 3
   },
   "file_extension": ".py",
   "mimetype": "text/x-python",
   "name": "python",
   "nbconvert_exporter": "python",
   "pygments_lexer": "ipython3",
   "version": "3.13.2"
  }
 },
 "nbformat": 4,
 "nbformat_minor": 5
}
